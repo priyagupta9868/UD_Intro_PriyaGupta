{
 "cells": [
  {
   "cell_type": "code",
   "execution_count": 1,
   "id": "796de6fc",
   "metadata": {},
   "outputs": [],
   "source": [
    "import selenium \n",
    "from selenium import webdriver\n",
    "from selenium.webdriver.common.by import By\n",
    "from selenium.webdriver.common.keys import Keys\n",
    "from selenium.webdriver.support.ui import Select\n",
    "from selenium.webdriver.support.ui import WebDriverWait\n",
    "from selenium.webdriver.support import expected_conditions as EC\n",
    "from time import sleep\n",
    "import re"
   ]
  },
  {
   "cell_type": "code",
   "execution_count": 2,
   "id": "8a2e54a5",
   "metadata": {},
   "outputs": [],
   "source": [
    "url=\"https://www.dezeen.com/\""
   ]
  },
  {
   "cell_type": "code",
   "execution_count": 3,
   "id": "ee9f138c",
   "metadata": {},
   "outputs": [],
   "source": [
    "magazine_list = []\n",
    "image_list=[]\n",
    "link_list=[]"
   ]
  },
  {
   "cell_type": "code",
   "execution_count": 4,
   "id": "8f7250c2",
   "metadata": {},
   "outputs": [],
   "source": [
    "driver = webdriver.Chrome()\n",
    "driver.get(url)\n",
    "\n",
    "#Maximizing the window\n",
    "driver.maximize_window()\n",
    "driver.implicitly_wait(2)\n",
    "\n",
    "#Accepting Cookies\n",
    "driver.find_element(\"xpath\", '//*[@id=\"CybotCookiebotDialogBodyLevelButtonLevelOptinAllowAll\"]').click()\n"
   ]
  },
  {
   "cell_type": "code",
   "execution_count": 5,
   "id": "fb842982",
   "metadata": {},
   "outputs": [],
   "source": [
    "#directing to the search box\n",
    "search_query = driver.find_element(\"xpath\", '//*[@id=\"ais-SearchBox-input\"]')\n",
    "\n",
    "#dsearching architecture\n",
    "search_query.send_keys('Architecture')\n",
    "search_query.send_keys(Keys.RETURN)\n",
    "\n",
    "sleep(3)\n",
    "\n"
   ]
  },
  {
   "cell_type": "code",
   "execution_count": 8,
   "id": "4dfb76e9",
   "metadata": {},
   "outputs": [],
   "source": [
    "def extract_page_data(driver):\n",
    "   #grab arcticles\n",
    "    articles=driver.find_elements(\"class name\", \"ais-Hits-item\")\n",
    "    #print(len(articles))\n",
    "    \n",
    "    #Create loop to itterate on the list\n",
    "    for b in range(len(articles)): \n",
    "            #Extraction of link\n",
    "        link = articles[b].find_element(\"xpath\", '//*[@id=\"algolia-hits\"]/div/div/ol/li[1]/article/div[1]/h2/a').get_attribute('href')\n",
    "        link_list.append(link)\n",
    "        sleep(3)  \n",
    "      \n",
    "        \n",
    "        "
   ]
  },
  {
   "cell_type": "code",
   "execution_count": null,
   "id": "ad4d4a4d",
   "metadata": {},
   "outputs": [],
   "source": []
  },
  {
   "cell_type": "code",
   "execution_count": null,
   "id": "ac4a7281",
   "metadata": {},
   "outputs": [],
   "source": []
  }
 ],
 "metadata": {
  "kernelspec": {
   "display_name": "Python 3 (ipykernel)",
   "language": "python",
   "name": "python3"
  },
  "language_info": {
   "codemirror_mode": {
    "name": "ipython",
    "version": 3
   },
   "file_extension": ".py",
   "mimetype": "text/x-python",
   "name": "python",
   "nbconvert_exporter": "python",
   "pygments_lexer": "ipython3",
   "version": "3.8.18"
  }
 },
 "nbformat": 4,
 "nbformat_minor": 5
}
